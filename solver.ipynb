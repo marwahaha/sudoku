{
 "cells": [
  {
   "cell_type": "markdown",
   "metadata": {},
   "source": [
    "## Sudoku"
   ]
  },
  {
   "cell_type": "code",
   "execution_count": 1,
   "metadata": {},
   "outputs": [],
   "source": [
    "%matplotlib inline\n",
    "import numpy as np\n",
    "from __future__ import division\n",
    "np.set_printoptions(linewidth=150)"
   ]
  },
  {
   "cell_type": "code",
   "execution_count": 2,
   "metadata": {},
   "outputs": [],
   "source": [
    "class Board:\n",
    "    def __init__(self,n=3):\n",
    "        self.size=n**2\n",
    "        self.board = np.zeros((self.size,self.size))\n",
    "        self._clear_options()\n",
    "    def _clear_options(self):\n",
    "        self.options = np.empty((self.size,self.size,self.size))\n",
    "        for i in range(self.size):\n",
    "            for j in range(self.size):\n",
    "                for k in range(self.size):\n",
    "                    self.options[i][j][k] = k+1\n",
    "    def view(self):\n",
    "        return self.board.astype(int)\n",
    "    def set_board(self,vals):\n",
    "        if type(vals) == str:\n",
    "            vals = [i for i in vals]\n",
    "        vals = np.reshape(vals,(self.size,self.size))\n",
    "        for i in range(self.size):\n",
    "            self.set_row(vals[i],i+1)\n",
    "    def set_row(self,vals,row):\n",
    "        for j in range(self.size):\n",
    "            try:\n",
    "                self.board[row-1][j] = vals[j]\n",
    "            except:\n",
    "                self.board[row-1][j] = 0\n",
    "    def set_column(self,vals,col):\n",
    "        for i in range(self.size):\n",
    "            try:\n",
    "                self.board[i][col-1] = vals[i]\n",
    "            except:\n",
    "                self.board[i][col-1] = 0\n",
    "    def set_val(self,val,pos):\n",
    "        try:\n",
    "            int(val)\n",
    "        except:\n",
    "            val = 0\n",
    "        if type(pos) == tuple:\n",
    "            self.board[pos[1]-1][pos[0]-1] = val\n",
    "        else:\n",
    "            self.board[(pos-1)//self.size][(pos-1)%self.size] = val\n",
    "    def check_solved(self):\n",
    "        return self.check_legal() and self.check_filled()\n",
    "    def check_filled(self):\n",
    "        return np.count_nonzero(self.board) == self.size**2\n",
    "    def check_legal(self):\n",
    "        return self.check_rows() and self.check_columns() and self.check_boxes()\n",
    "    def check_rows(self,transpose=False):\n",
    "        b2 = np.copy(self.board)\n",
    "        if transpose:\n",
    "            b2 = np.transpose(b2)\n",
    "        for i in range(self.size):\n",
    "            num_nonzero = np.count_nonzero(b2[i])\n",
    "            num_unique = len(np.unique(b2[i]))\n",
    "            if num_nonzero == self.size and num_unique != self.size:\n",
    "                return False\n",
    "            if num_nonzero != self.size and num_unique != num_nonzero + 1:\n",
    "                return False\n",
    "        return True\n",
    "    def check_columns(self):\n",
    "        return self.check_rows(transpose=True)\n",
    "    def check_boxes(self):\n",
    "        n = int(self.size**0.5)\n",
    "        for i in range(n):\n",
    "            for j in range(n):\n",
    "                num_nonzero = 0\n",
    "                unique = set()\n",
    "                for k in range(n):\n",
    "                    rk = self.board[n*i+k][n*j:n*j+n]\n",
    "                    num_nonzero += np.count_nonzero(rk)\n",
    "                    unique = unique.union(set(rk))\n",
    "                num_unique = len(unique)\n",
    "                if num_nonzero == self.size and num_unique != self.size:\n",
    "                    return False\n",
    "                if num_nonzero != self.size and num_unique != num_nonzero + 1:\n",
    "                    return False\n",
    "        return True\n",
    "    def solve(self,brute=False):\n",
    "        b2 = np.copy(self.board)\n",
    "        self._clear_options()\n",
    "        o2 = np.copy(self.options)\n",
    "        if brute:\n",
    "            success = self._brute_solver()\n",
    "        else:\n",
    "            success = self._smart_solver()\n",
    "        if not success:\n",
    "            self.board = b2\n",
    "            self.options = o2\n",
    "            print(\"Solve failed! Board is impossible to solve.\")\n",
    "        else:\n",
    "            print(\"Solve complete!\")\n",
    "        return self.view()\n",
    "    def _smart_solver(self):\n",
    "        for i in range(self.size):\n",
    "            for j in range(self.size):\n",
    "                if self.board[i][j] != 0:\n",
    "                    self._prune_current_options(self.board[i][j],i,j)\n",
    "        found = True\n",
    "        while found:\n",
    "            found = self._forced_placement()\n",
    "        return self._brute_solver()\n",
    "    def _forced_placement(self):\n",
    "        found = False\n",
    "        for i in range(self.size):\n",
    "            for j in range(self.size):\n",
    "                if self.board[i][j] == 0 and np.count_nonzero(self.options[i][j]) == 1:\n",
    "                    found = True\n",
    "                    self.board[i][j] = self.options[i][j][self.options[i][j]>0][0]\n",
    "#                     print(j+1,i+1,self.board[i][j])\n",
    "                    self._prune_current_options(self.board[i][j],i,j)\n",
    "        return found\n",
    "    def _prune_current_options(self,num,i,j):\n",
    "        num = int(num)\n",
    "        n = int(self.size**0.5)\n",
    "        self.options[i][j] = [num-1 if k == num-1 else 0 for k in range(self.size)]\n",
    "        for q in range(self.size):\n",
    "            self.options[q][j][num-1] = 0\n",
    "        for q in range(self.size):\n",
    "            self.options[i][q][num-1] = 0\n",
    "        for q in range(n):\n",
    "            for r in range(n):\n",
    "                self.options[n*(i//n)+q][n*(j//n)+r][num-1] = 0\n",
    "    def _brute_solver(self):\n",
    "        if self.check_solved():\n",
    "            return True\n",
    "        if not self.check_legal():\n",
    "            return False\n",
    "        for pos in range(self.size**2):\n",
    "            if self.board[pos//self.size][pos%self.size] == 0:\n",
    "                break\n",
    "        vals = [i for i in self.options[pos//self.size][pos%self.size] if i != 0]\n",
    "        for val in vals:\n",
    "            self.board[pos//self.size][pos%self.size] = val\n",
    "#             print('adding ' + str(val) + ' at pos:' + str(((pos+1)%9,(pos+1)//9)))\n",
    "            if self._brute_solver():\n",
    "                return True\n",
    "        self.board[pos//self.size][pos%self.size] = 0\n",
    "        return False"
   ]
  },
  {
   "cell_type": "code",
   "execution_count": 3,
   "metadata": {},
   "outputs": [],
   "source": [
    "bd = Board()\n",
    "\n",
    "##Not legal board, but ok on rows\n",
    "# for i in range(9):\n",
    "#     options[i] = options[i] + i + 1\n",
    "#     for j in range(9):\n",
    "#         board[j][i] = board[j][i] + i + 1\n",
    "\n",
    "##Not legal board, but ok on boxes\n",
    "# for i in range(3):\n",
    "#     for j in range(3):\n",
    "#         board[3*i][3*j:3*j+3] = [1,2,3]\n",
    "#         board[3*i+1][3*j:3*j+3] = [4,5,6]\n",
    "#         board[3*i+2][3*j:3*j+3] = [7,8,9]\n",
    "\n",
    "##Legal Board\n",
    "# for i in range(3):\n",
    "#     for j in range(9):\n",
    "#         board[i+0][j] = (3*i+j+0)%9 + 1\n",
    "#         board[i+3][j] = (3*i+j+1)%9 + 1\n",
    "#         board[i+6][j] = (3*i+j+2)%9 + 1"
   ]
  },
  {
   "cell_type": "markdown",
   "metadata": {},
   "source": [
    "Here, you can create a board, set values, and view the board."
   ]
  },
  {
   "cell_type": "code",
   "execution_count": 4,
   "metadata": {
    "scrolled": true
   },
   "outputs": [
    {
     "name": "stdout",
     "output_type": "stream",
     "text": [
      "True\n"
     ]
    },
    {
     "data": {
      "text/plain": [
       "array([[1, 2, 3, 4, 5, 6, 7, 8, 0],\n",
       "       [0, 0, 0, 0, 0, 0, 3, 2, 0],\n",
       "       [0, 4, 0, 0, 0, 0, 0, 0, 0],\n",
       "       [0, 0, 0, 0, 0, 0, 0, 0, 0],\n",
       "       [0, 0, 0, 0, 0, 0, 0, 0, 0],\n",
       "       [0, 0, 0, 0, 0, 0, 0, 0, 0],\n",
       "       [0, 0, 0, 0, 0, 0, 0, 0, 0],\n",
       "       [0, 0, 0, 0, 0, 0, 0, 0, 0],\n",
       "       [0, 0, 0, 0, 0, 0, 0, 0, 0]])"
      ]
     },
     "execution_count": 4,
     "metadata": {},
     "output_type": "execute_result"
    }
   ],
   "source": [
    "bd = Board()\n",
    "# bd.set_val(8,36)\n",
    "bd.set_val(4,(2,3))\n",
    "bd.set_val(3,(7,2))\n",
    "bd.set_val(2,(8,2))\n",
    "bd.set_row('12345678.',1)\n",
    "# bd.set_column([9,8,7,6,5,4,3,2,1],9)\n",
    "# bd.set_board([i%9 for i in range(81)])\n",
    "print(bd.check_legal())\n",
    "bd.view()"
   ]
  },
  {
   "cell_type": "markdown",
   "metadata": {},
   "source": [
    "### Solving\n",
    "Solving is done first by finding \"forced\" squares (where only 1 out of 9 options is possible), then with a brute-force, recursive algorithm (sequentially trying each value in each unfilled square). \n",
    "\n",
    "It is reasonably fast for many boards :-)"
   ]
  },
  {
   "cell_type": "code",
   "execution_count": 5,
   "metadata": {
    "scrolled": true
   },
   "outputs": [
    {
     "name": "stdout",
     "output_type": "stream",
     "text": [
      "Solve complete!\n",
      "CPU times: user 449 ms, sys: 3.28 ms, total: 452 ms\n",
      "Wall time: 452 ms\n"
     ]
    },
    {
     "data": {
      "text/plain": [
       "array([[1, 2, 3, 4, 5, 6, 7, 8, 9],\n",
       "       [5, 6, 7, 1, 8, 9, 3, 2, 4],\n",
       "       [8, 4, 9, 2, 3, 7, 1, 5, 6],\n",
       "       [2, 1, 4, 3, 6, 5, 8, 9, 7],\n",
       "       [3, 5, 8, 7, 9, 1, 4, 6, 2],\n",
       "       [7, 9, 6, 8, 2, 4, 5, 1, 3],\n",
       "       [4, 3, 2, 6, 1, 8, 9, 7, 5],\n",
       "       [6, 8, 5, 9, 7, 3, 2, 4, 1],\n",
       "       [9, 7, 1, 5, 4, 2, 6, 3, 8]])"
      ]
     },
     "execution_count": 5,
     "metadata": {},
     "output_type": "execute_result"
    }
   ],
   "source": [
    "%time bd.solve()"
   ]
  },
  {
   "cell_type": "markdown",
   "metadata": {},
   "source": [
    "### Play!\n",
    "Use this notebook to play with Sudoku boards or solve puzzles that you're stuck on. (Or, check if your guesses are on the right track!)\n",
    "\n",
    "For example, here is a [list](http://www.puzzles.ca/sudoku.html) of Sudoku puzzles."
   ]
  },
  {
   "cell_type": "code",
   "execution_count": 6,
   "metadata": {},
   "outputs": [
    {
     "name": "stdout",
     "output_type": "stream",
     "text": [
      "81 <class 'str'>\n",
      "81 <class 'str'>\n",
      "81 <class 'str'>\n"
     ]
    }
   ],
   "source": [
    "##v1 is Easy Puzzle   #217 from http://www.puzzles.ca/sudoku.html\n",
    "##v2 is Medium Puzzle #029 from http://www.puzzles.ca/sudoku.html\n",
    "##v2 is Hard Puzzle   #001 from http://www.puzzles.ca/sudoku.html\n",
    "##Any nonzero character is interpreted as \"0\" (unknown)\n",
    "v1 =    '000090010300010200000400067' +\\\n",
    "        '007500000006029081509000000' +\\\n",
    "        '200000000008000000160305002'\n",
    "v2 =    '903020806000300402006085710' +\\\n",
    "        '000802001600000004032000070' +\\\n",
    "        '010000007408050000000431000'\n",
    "v3 =    '438760102200090530000002608' +\\\n",
    "        '004023050300000800600000000' +\\\n",
    "        '005010309010000080900600070'\n",
    "print(len(v1), type(v1))\n",
    "print(len(v2), type(v2))\n",
    "print(len(v3), type(v3))"
   ]
  },
  {
   "cell_type": "code",
   "execution_count": 7,
   "metadata": {
    "scrolled": true
   },
   "outputs": [
    {
     "data": {
      "text/plain": [
       "array([[0, 0, 0, 0, 9, 0, 0, 1, 0],\n",
       "       [3, 0, 0, 0, 1, 0, 2, 0, 0],\n",
       "       [0, 0, 0, 4, 0, 0, 0, 6, 7],\n",
       "       [0, 0, 7, 5, 0, 0, 0, 0, 0],\n",
       "       [0, 0, 6, 0, 2, 9, 0, 8, 1],\n",
       "       [5, 0, 9, 0, 0, 0, 0, 0, 0],\n",
       "       [2, 0, 0, 0, 0, 0, 0, 0, 0],\n",
       "       [0, 0, 8, 0, 0, 0, 0, 0, 0],\n",
       "       [1, 6, 0, 3, 0, 5, 0, 0, 2]])"
      ]
     },
     "execution_count": 7,
     "metadata": {},
     "output_type": "execute_result"
    }
   ],
   "source": [
    "bd = Board()\n",
    "bd.set_board(v1)\n",
    "bd.view()"
   ]
  },
  {
   "cell_type": "code",
   "execution_count": 8,
   "metadata": {},
   "outputs": [
    {
     "name": "stdout",
     "output_type": "stream",
     "text": [
      "Solve complete!\n",
      "CPU times: user 4.35 ms, sys: 1.17 ms, total: 5.52 ms\n",
      "Wall time: 4.52 ms\n"
     ]
    },
    {
     "data": {
      "text/plain": [
       "array([[6, 7, 2, 8, 9, 3, 4, 1, 5],\n",
       "       [3, 4, 5, 6, 1, 7, 2, 9, 8],\n",
       "       [9, 8, 1, 4, 5, 2, 3, 6, 7],\n",
       "       [8, 1, 7, 5, 3, 4, 6, 2, 9],\n",
       "       [4, 3, 6, 7, 2, 9, 5, 8, 1],\n",
       "       [5, 2, 9, 1, 6, 8, 7, 3, 4],\n",
       "       [2, 5, 3, 9, 7, 1, 8, 4, 6],\n",
       "       [7, 9, 8, 2, 4, 6, 1, 5, 3],\n",
       "       [1, 6, 4, 3, 8, 5, 9, 7, 2]])"
      ]
     },
     "execution_count": 8,
     "metadata": {},
     "output_type": "execute_result"
    }
   ],
   "source": [
    "%time bd.solve()"
   ]
  },
  {
   "cell_type": "code",
   "execution_count": 9,
   "metadata": {},
   "outputs": [
    {
     "data": {
      "text/plain": [
       "array([[9, 0, 3, 0, 2, 0, 8, 0, 6],\n",
       "       [0, 0, 0, 3, 0, 0, 4, 0, 2],\n",
       "       [0, 0, 6, 0, 8, 5, 7, 1, 0],\n",
       "       [0, 0, 0, 8, 0, 2, 0, 0, 1],\n",
       "       [6, 0, 0, 0, 0, 0, 0, 0, 4],\n",
       "       [0, 3, 2, 0, 0, 0, 0, 7, 0],\n",
       "       [0, 1, 0, 0, 0, 0, 0, 0, 7],\n",
       "       [4, 0, 8, 0, 5, 0, 0, 0, 0],\n",
       "       [0, 0, 0, 4, 3, 1, 0, 0, 0]])"
      ]
     },
     "execution_count": 9,
     "metadata": {},
     "output_type": "execute_result"
    }
   ],
   "source": [
    "bd.set_board(v2)\n",
    "bd.view()"
   ]
  },
  {
   "cell_type": "code",
   "execution_count": 10,
   "metadata": {
    "scrolled": true
   },
   "outputs": [
    {
     "name": "stdout",
     "output_type": "stream",
     "text": [
      "Solve complete!\n",
      "CPU times: user 177 ms, sys: 2.75 ms, total: 180 ms\n",
      "Wall time: 179 ms\n"
     ]
    },
    {
     "data": {
      "text/plain": [
       "array([[9, 7, 3, 1, 2, 4, 8, 5, 6],\n",
       "       [8, 5, 1, 3, 6, 7, 4, 9, 2],\n",
       "       [2, 4, 6, 9, 8, 5, 7, 1, 3],\n",
       "       [5, 9, 4, 8, 7, 2, 3, 6, 1],\n",
       "       [6, 8, 7, 5, 1, 3, 9, 2, 4],\n",
       "       [1, 3, 2, 6, 4, 9, 5, 7, 8],\n",
       "       [3, 1, 5, 2, 9, 8, 6, 4, 7],\n",
       "       [4, 2, 8, 7, 5, 6, 1, 3, 9],\n",
       "       [7, 6, 9, 4, 3, 1, 2, 8, 5]])"
      ]
     },
     "execution_count": 10,
     "metadata": {},
     "output_type": "execute_result"
    }
   ],
   "source": [
    "%time bd.solve()"
   ]
  },
  {
   "cell_type": "code",
   "execution_count": 11,
   "metadata": {},
   "outputs": [
    {
     "data": {
      "text/plain": [
       "array([[4, 3, 8, 7, 6, 0, 1, 0, 2],\n",
       "       [2, 0, 0, 0, 9, 0, 5, 3, 0],\n",
       "       [0, 0, 0, 0, 0, 2, 6, 0, 8],\n",
       "       [0, 0, 4, 0, 2, 3, 0, 5, 0],\n",
       "       [3, 0, 0, 0, 0, 0, 8, 0, 0],\n",
       "       [6, 0, 0, 0, 0, 0, 0, 0, 0],\n",
       "       [0, 0, 5, 0, 1, 0, 3, 0, 9],\n",
       "       [0, 1, 0, 0, 0, 0, 0, 8, 0],\n",
       "       [9, 0, 0, 6, 0, 0, 0, 7, 0]])"
      ]
     },
     "execution_count": 11,
     "metadata": {},
     "output_type": "execute_result"
    }
   ],
   "source": [
    "bd.set_board(v3)\n",
    "bd.view()"
   ]
  },
  {
   "cell_type": "code",
   "execution_count": 12,
   "metadata": {},
   "outputs": [
    {
     "name": "stdout",
     "output_type": "stream",
     "text": [
      "Solve complete!\n",
      "CPU times: user 249 ms, sys: 3.71 ms, total: 253 ms\n",
      "Wall time: 252 ms\n"
     ]
    },
    {
     "data": {
      "text/plain": [
       "array([[4, 3, 8, 7, 6, 5, 1, 9, 2],\n",
       "       [2, 6, 1, 8, 9, 4, 5, 3, 7],\n",
       "       [5, 7, 9, 1, 3, 2, 6, 4, 8],\n",
       "       [1, 8, 4, 9, 2, 3, 7, 5, 6],\n",
       "       [3, 9, 2, 5, 7, 6, 8, 1, 4],\n",
       "       [6, 5, 7, 4, 8, 1, 9, 2, 3],\n",
       "       [8, 4, 5, 2, 1, 7, 3, 6, 9],\n",
       "       [7, 1, 6, 3, 4, 9, 2, 8, 5],\n",
       "       [9, 2, 3, 6, 5, 8, 4, 7, 1]])"
      ]
     },
     "execution_count": 12,
     "metadata": {},
     "output_type": "execute_result"
    }
   ],
   "source": [
    "%time bd.solve()"
   ]
  },
  {
   "cell_type": "markdown",
   "metadata": {},
   "source": [
    "### Notes\n",
    "Of course, there are much faster implementations of this code. Also, a very small number of boards (~0.05%) will take a long, long time to solve. See Peter Norvig's [writeup](http://norvig.com/sudoku.html) for more information.\n"
   ]
  },
  {
   "cell_type": "code",
   "execution_count": 13,
   "metadata": {},
   "outputs": [
    {
     "data": {
      "text/plain": [
       "array([[0, 0, 0, 0, 0, 6, 0, 0, 0],\n",
       "       [0, 5, 9, 0, 0, 0, 0, 0, 8],\n",
       "       [2, 0, 0, 0, 0, 8, 0, 0, 0],\n",
       "       [0, 4, 5, 0, 0, 0, 0, 0, 0],\n",
       "       [0, 0, 3, 0, 0, 0, 0, 0, 0],\n",
       "       [0, 0, 6, 0, 0, 3, 0, 5, 4],\n",
       "       [0, 0, 0, 3, 2, 5, 0, 0, 6],\n",
       "       [0, 0, 0, 0, 0, 0, 0, 0, 0],\n",
       "       [0, 0, 0, 0, 0, 0, 0, 0, 0]])"
      ]
     },
     "execution_count": 13,
     "metadata": {},
     "output_type": "execute_result"
    }
   ],
   "source": [
    "hard1  =    '.....6....59.....82....8...' +\\\n",
    "            '.45........3........6..3.54' +\\\n",
    "            '...325..6..................'\n",
    "bd.set_board(hard1)\n",
    "bd.view()\n",
    "##This takes a very long time!\n",
    "# bd.solve()"
   ]
  },
  {
   "cell_type": "markdown",
   "metadata": {},
   "source": [
    "You can make boards of other sizes, too."
   ]
  },
  {
   "cell_type": "code",
   "execution_count": 14,
   "metadata": {},
   "outputs": [
    {
     "data": {
      "text/plain": [
       "array([[0, 1, 0, 0],\n",
       "       [2, 0, 0, 0],\n",
       "       [0, 2, 0, 0],\n",
       "       [0, 0, 0, 0]])"
      ]
     },
     "execution_count": 14,
     "metadata": {},
     "output_type": "execute_result"
    }
   ],
   "source": [
    "bd = Board(2)\n",
    "bd.set_board('0100200002000000')\n",
    "bd.view()"
   ]
  },
  {
   "cell_type": "code",
   "execution_count": 15,
   "metadata": {},
   "outputs": [
    {
     "name": "stdout",
     "output_type": "stream",
     "text": [
      "Solve complete!\n"
     ]
    },
    {
     "data": {
      "text/plain": [
       "array([[3, 1, 2, 4],\n",
       "       [2, 4, 1, 3],\n",
       "       [4, 2, 3, 1],\n",
       "       [1, 3, 4, 2]])"
      ]
     },
     "execution_count": 15,
     "metadata": {},
     "output_type": "execute_result"
    }
   ],
   "source": [
    "bd.solve()"
   ]
  },
  {
   "cell_type": "code",
   "execution_count": 16,
   "metadata": {},
   "outputs": [
    {
     "data": {
      "text/plain": [
       "array([[1, 2, 3, 4, 5, 6, 7, 8, 0, 9, 0, 0, 0, 0, 0, 0],\n",
       "       [6, 0, 0, 0, 0, 0, 0, 0, 0, 0, 0, 0, 0, 0, 0, 0],\n",
       "       [0, 0, 0, 0, 0, 0, 0, 0, 0, 0, 0, 0, 0, 0, 0, 0],\n",
       "       [0, 0, 0, 0, 0, 0, 0, 0, 0, 0, 0, 0, 0, 0, 0, 0],\n",
       "       [0, 0, 0, 0, 0, 0, 0, 0, 0, 0, 0, 0, 0, 0, 0, 0],\n",
       "       [0, 0, 0, 0, 0, 0, 0, 0, 0, 0, 0, 0, 0, 0, 0, 0],\n",
       "       [0, 0, 0, 0, 0, 0, 0, 0, 0, 0, 0, 0, 0, 0, 0, 0],\n",
       "       [0, 0, 0, 0, 0, 0, 0, 0, 0, 0, 0, 0, 0, 0, 0, 0],\n",
       "       [0, 0, 0, 0, 0, 0, 0, 0, 0, 0, 0, 0, 0, 0, 0, 0],\n",
       "       [0, 0, 0, 0, 0, 0, 0, 0, 0, 0, 0, 0, 0, 0, 0, 0],\n",
       "       [0, 0, 0, 0, 0, 0, 0, 0, 0, 0, 0, 0, 0, 0, 0, 0],\n",
       "       [0, 0, 0, 0, 0, 0, 0, 0, 0, 0, 0, 0, 0, 0, 0, 0],\n",
       "       [0, 0, 0, 0, 0, 0, 0, 0, 0, 0, 0, 0, 0, 0, 0, 0],\n",
       "       [0, 0, 0, 0, 0, 0, 0, 0, 0, 0, 0, 0, 0, 0, 0, 0],\n",
       "       [0, 0, 0, 0, 0, 0, 0, 0, 0, 0, 0, 0, 0, 0, 0, 0],\n",
       "       [0, 0, 0, 0, 0, 0, 0, 0, 0, 0, 0, 0, 0, 0, 0, 0]])"
      ]
     },
     "execution_count": 16,
     "metadata": {},
     "output_type": "execute_result"
    }
   ],
   "source": [
    "bd = Board(4)\n",
    "bd.set_row('12345678090',1)\n",
    "bd.set_val(6,(1,2))\n",
    "bd.view()"
   ]
  },
  {
   "cell_type": "code",
   "execution_count": 17,
   "metadata": {},
   "outputs": [
    {
     "name": "stdout",
     "output_type": "stream",
     "text": [
      "Solve complete!\n"
     ]
    },
    {
     "data": {
      "text/plain": [
       "array([[ 1,  2,  3,  4,  5,  6,  7,  8, 10,  9, 11, 12, 13, 14, 15, 16],\n",
       "       [ 6,  5,  7,  8,  1,  2,  3,  4, 13, 14, 15, 16,  9, 10, 11, 12],\n",
       "       [ 9, 10, 11, 12, 13, 14, 15, 16,  1,  2,  3,  4,  5,  6,  7,  8],\n",
       "       [13, 14, 15, 16,  9, 10, 11, 12,  5,  6,  7,  8,  1,  2,  3,  4],\n",
       "       [ 2,  1,  4,  3,  6,  5,  8,  7,  9, 10, 12, 11, 14, 13, 16, 15],\n",
       "       [ 5,  6,  8,  7,  2,  1,  4,  3, 14, 13, 16, 15, 10,  9, 12, 11],\n",
       "       [10,  9, 12, 11, 14, 13, 16, 15,  2,  1,  4,  3,  6,  5,  8,  7],\n",
       "       [14, 13, 16, 15, 10,  9, 12, 11,  6,  5,  8,  7,  2,  1,  4,  3],\n",
       "       [ 3,  4,  1,  2,  7,  8,  5,  6, 11, 12,  9, 10, 15, 16, 13, 14],\n",
       "       [ 7,  8,  5,  6,  3,  4,  1,  2, 15, 16, 13, 14, 11, 12,  9, 10],\n",
       "       [11, 12,  9, 10, 15, 16, 13, 14,  3,  4,  1,  2,  7,  8,  5,  6],\n",
       "       [15, 16, 13, 14, 11, 12,  9, 10,  7,  8,  5,  6,  3,  4,  1,  2],\n",
       "       [ 4,  3,  2,  1,  8,  7,  6,  5, 12, 11, 10,  9, 16, 15, 14, 13],\n",
       "       [ 8,  7,  6,  5,  4,  3,  2,  1, 16, 15, 14, 13, 12, 11, 10,  9],\n",
       "       [12, 11, 10,  9, 16, 15, 14, 13,  4,  3,  2,  1,  8,  7,  6,  5],\n",
       "       [16, 15, 14, 13, 12, 11, 10,  9,  8,  7,  6,  5,  4,  3,  2,  1]])"
      ]
     },
     "execution_count": 17,
     "metadata": {},
     "output_type": "execute_result"
    }
   ],
   "source": [
    "bd.solve()"
   ]
  },
  {
   "cell_type": "markdown",
   "metadata": {},
   "source": [
    "Have fun!"
   ]
  },
  {
   "cell_type": "code",
   "execution_count": 18,
   "metadata": {},
   "outputs": [
    {
     "data": {
      "text/plain": [
       "array([[0, 0, 0, 0, 0, 0, 0, 0, 0],\n",
       "       [0, 0, 0, 0, 0, 0, 0, 0, 0],\n",
       "       [0, 0, 0, 0, 0, 0, 0, 0, 0],\n",
       "       [0, 0, 0, 0, 0, 0, 0, 0, 0],\n",
       "       [0, 0, 0, 0, 0, 0, 0, 0, 0],\n",
       "       [0, 0, 0, 0, 0, 0, 0, 0, 0],\n",
       "       [0, 0, 0, 0, 0, 0, 0, 0, 0],\n",
       "       [0, 0, 0, 0, 0, 0, 0, 0, 0],\n",
       "       [0, 0, 0, 0, 0, 0, 0, 0, 0]])"
      ]
     },
     "execution_count": 18,
     "metadata": {},
     "output_type": "execute_result"
    }
   ],
   "source": [
    "bd = Board()\n",
    "bd.view()"
   ]
  },
  {
   "cell_type": "code",
   "execution_count": null,
   "metadata": {
    "collapsed": true
   },
   "outputs": [],
   "source": []
  }
 ],
 "metadata": {
  "kernelspec": {
   "display_name": "Python 3",
   "language": "python",
   "name": "python3"
  },
  "language_info": {
   "codemirror_mode": {
    "name": "ipython",
    "version": 3
   },
   "file_extension": ".py",
   "mimetype": "text/x-python",
   "name": "python",
   "nbconvert_exporter": "python",
   "pygments_lexer": "ipython3",
   "version": "3.6.4"
  }
 },
 "nbformat": 4,
 "nbformat_minor": 2
}
